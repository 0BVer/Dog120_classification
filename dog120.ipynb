{
 "cells": [
  {
   "cell_type": "code",
   "execution_count": 3,
   "metadata": {
    "executionInfo": {
     "elapsed": 267,
     "status": "ok",
     "timestamp": 1637814936213,
     "user": {
      "displayName": "김영준소프트웨어전공",
      "photoUrl": "https://lh3.googleusercontent.com/a/default-user=s64",
      "userId": "18052448005876962130"
     },
     "user_tz": -540
    },
    "id": "bM6U-DYZHC3x"
   },
   "outputs": [],
   "source": [
    "#모델 학습\n",
    "import tensorflow as tf\n",
    "from tensorflow.keras.preprocessing.image import ImageDataGenerator\n",
    "from tensorflow.keras.models import Model\n",
    "from tensorflow.keras.layers import Conv2D, MaxPooling2D, GlobalAveragePooling2D, AveragePooling2D\n",
    "from tensorflow.keras.layers import Activation, Dropout, Flatten, Dense, BatchNormalization\n",
    "from tensorflow.keras import backend as K\n",
    "from tensorflow.keras.optimizers import Adam\n",
    "from tensorflow.keras.models import Sequential\n",
    "\n",
    "#tensorflow image processing\n",
    "from tensorflow.keras.preprocessing.image import ImageDataGenerator\n",
    "from tensorflow.keras.preprocessing.image import img_to_array\n",
    "from tensorflow.keras.preprocessing.image import load_img\n",
    "\n",
    "from sklearn.metrics import multilabel_confusion_matrix\n",
    "\n",
    "#train, test 분류\n",
    "from sklearn.model_selection import train_test_split\n",
    "from sklearn.metrics import classification_report, confusion_matrix, f1_score\n",
    "\n",
    "#날짜 생성\n",
    "from datetime import datetime\n",
    "\n",
    "#그래프 생성\n",
    "import matplotlib.pyplot as plt\n",
    "\n",
    "import pandas as pd\n",
    "import numpy as np\n",
    "import os"
   ]
  },
  {
   "cell_type": "code",
   "execution_count": 2,
   "metadata": {},
   "outputs": [],
   "source": [
    "tf.config.run_functions_eagerly(True)"
   ]
  },
  {
   "cell_type": "code",
   "execution_count": 3,
   "metadata": {},
   "outputs": [
    {
     "name": "stdout",
     "output_type": "stream",
     "text": [
      "[name: \"/device:CPU:0\"\n",
      "device_type: \"CPU\"\n",
      "memory_limit: 268435456\n",
      "locality {\n",
      "}\n",
      "incarnation: 8731083275615944557\n",
      ", name: \"/device:XLA_CPU:0\"\n",
      "device_type: \"XLA_CPU\"\n",
      "memory_limit: 17179869184\n",
      "locality {\n",
      "}\n",
      "incarnation: 12739064150508029253\n",
      "physical_device_desc: \"device: XLA_CPU device\"\n",
      ", name: \"/device:GPU:0\"\n",
      "device_type: \"GPU\"\n",
      "memory_limit: 3050779444\n",
      "locality {\n",
      "  bus_id: 1\n",
      "  links {\n",
      "  }\n",
      "}\n",
      "incarnation: 3933628049369891839\n",
      "physical_device_desc: \"device: 0, name: NVIDIA GeForce GTX 1650, pci bus id: 0000:01:00.0, compute capability: 7.5\"\n",
      ", name: \"/device:XLA_GPU:0\"\n",
      "device_type: \"XLA_GPU\"\n",
      "memory_limit: 17179869184\n",
      "locality {\n",
      "}\n",
      "incarnation: 5485180911502331381\n",
      "physical_device_desc: \"device: XLA_GPU device\"\n",
      "]\n"
     ]
    }
   ],
   "source": [
    "from tensorflow.python.client import device_lib\n",
    "print(device_lib.list_local_devices())"
   ]
  },
  {
   "cell_type": "code",
   "execution_count": 8,
   "metadata": {},
   "outputs": [],
   "source": [
    "dir_name = \"Learning_log\"\n",
    "\n",
    "def make_Tensorboard_dir(dir_name):\n",
    "    root_logdir = os.path.join(os.curdir, dir_name)\n",
    "    sub_dir_name = datetime.today().strftime(\"%Y%m%d-%H%M%S\")\n",
    "    return os.path.join(root_logdir, sub_dir_name)\n",
    "\n",
    "TB_log_dir = make_Tensorboard_dir(dir_name)\n",
    "TensorB = tf.keras.callbacks.TensorBoard(log_dir = TB_log_dir)"
   ]
  },
  {
   "cell_type": "code",
   "execution_count": 4,
   "metadata": {
    "colab": {
     "base_uri": "https://localhost:8080/"
    },
    "executionInfo": {
     "elapsed": 281,
     "status": "ok",
     "timestamp": 1637814491543,
     "user": {
      "displayName": "김영준소프트웨어전공",
      "photoUrl": "https://lh3.googleusercontent.com/a/default-user=s64",
      "userId": "18052448005876962130"
     },
     "user_tz": -540
    },
    "id": "BH081DORNp8P",
    "outputId": "c05a0fa5-034b-40ac-8478-ee09638987eb"
   },
   "outputs": [],
   "source": [
    "# from google.colab import drive\n",
    "# drive.mount('/content/drive')"
   ]
  },
  {
   "cell_type": "code",
   "execution_count": 5,
   "metadata": {
    "colab": {
     "base_uri": "https://localhost:8080/",
     "height": 206
    },
    "executionInfo": {
     "elapsed": 278,
     "status": "ok",
     "timestamp": 1637814972119,
     "user": {
      "displayName": "김영준소프트웨어전공",
      "photoUrl": "https://lh3.googleusercontent.com/a/default-user=s64",
      "userId": "18052448005876962130"
     },
     "user_tz": -540
    },
    "id": "7s2NOR5mPnin",
    "outputId": "01e5c40f-2378-42f6-8bed-d9a4a7e74195"
   },
   "outputs": [
    {
     "data": {
      "text/html": [
       "<div>\n",
       "<style scoped>\n",
       "    .dataframe tbody tr th:only-of-type {\n",
       "        vertical-align: middle;\n",
       "    }\n",
       "\n",
       "    .dataframe tbody tr th {\n",
       "        vertical-align: top;\n",
       "    }\n",
       "\n",
       "    .dataframe thead th {\n",
       "        text-align: right;\n",
       "    }\n",
       "</style>\n",
       "<table border=\"1\" class=\"dataframe\">\n",
       "  <thead>\n",
       "    <tr style=\"text-align: right;\">\n",
       "      <th></th>\n",
       "      <th>fileName</th>\n",
       "      <th>name</th>\n",
       "      <th>label</th>\n",
       "      <th>Extension</th>\n",
       "      <th>Folder_Path</th>\n",
       "      <th>folder</th>\n",
       "    </tr>\n",
       "  </thead>\n",
       "  <tbody>\n",
       "    <tr>\n",
       "      <th>0</th>\n",
       "      <td>affenpinscher1.jpg</td>\n",
       "      <td>affenpinscher1</td>\n",
       "      <td>affenpinscher</td>\n",
       "      <td>.jpg</td>\n",
       "      <td>C:/Users/BVer/dog_/YJ_Kim/dataset/img_mixed/</td>\n",
       "      <td>/img_mixed/</td>\n",
       "    </tr>\n",
       "    <tr>\n",
       "      <th>1</th>\n",
       "      <td>affenpinscher10.jpg</td>\n",
       "      <td>affenpinscher10</td>\n",
       "      <td>affenpinscher</td>\n",
       "      <td>.jpg</td>\n",
       "      <td>C:/Users/BVer/dog_/YJ_Kim/dataset/img_mixed/</td>\n",
       "      <td>/img_mixed/</td>\n",
       "    </tr>\n",
       "    <tr>\n",
       "      <th>2</th>\n",
       "      <td>affenpinscher100.jpg</td>\n",
       "      <td>affenpinscher100</td>\n",
       "      <td>affenpinscher</td>\n",
       "      <td>.jpg</td>\n",
       "      <td>C:/Users/BVer/dog_/YJ_Kim/dataset/img_mixed/</td>\n",
       "      <td>/img_mixed/</td>\n",
       "    </tr>\n",
       "    <tr>\n",
       "      <th>3</th>\n",
       "      <td>affenpinscher101.jpg</td>\n",
       "      <td>affenpinscher101</td>\n",
       "      <td>affenpinscher</td>\n",
       "      <td>.jpg</td>\n",
       "      <td>C:/Users/BVer/dog_/YJ_Kim/dataset/img_mixed/</td>\n",
       "      <td>/img_mixed/</td>\n",
       "    </tr>\n",
       "    <tr>\n",
       "      <th>4</th>\n",
       "      <td>affenpinscher102.jpg</td>\n",
       "      <td>affenpinscher102</td>\n",
       "      <td>affenpinscher</td>\n",
       "      <td>.jpg</td>\n",
       "      <td>C:/Users/BVer/dog_/YJ_Kim/dataset/img_mixed/</td>\n",
       "      <td>/img_mixed/</td>\n",
       "    </tr>\n",
       "  </tbody>\n",
       "</table>\n",
       "</div>"
      ],
      "text/plain": [
       "               fileName              name          label Extension  \\\n",
       "0    affenpinscher1.jpg    affenpinscher1  affenpinscher      .jpg   \n",
       "1   affenpinscher10.jpg   affenpinscher10  affenpinscher      .jpg   \n",
       "2  affenpinscher100.jpg  affenpinscher100  affenpinscher      .jpg   \n",
       "3  affenpinscher101.jpg  affenpinscher101  affenpinscher      .jpg   \n",
       "4  affenpinscher102.jpg  affenpinscher102  affenpinscher      .jpg   \n",
       "\n",
       "                                    Folder_Path       folder  \n",
       "0  C:/Users/BVer/dog_/YJ_Kim/dataset/img_mixed/  /img_mixed/  \n",
       "1  C:/Users/BVer/dog_/YJ_Kim/dataset/img_mixed/  /img_mixed/  \n",
       "2  C:/Users/BVer/dog_/YJ_Kim/dataset/img_mixed/  /img_mixed/  \n",
       "3  C:/Users/BVer/dog_/YJ_Kim/dataset/img_mixed/  /img_mixed/  \n",
       "4  C:/Users/BVer/dog_/YJ_Kim/dataset/img_mixed/  /img_mixed/  "
      ]
     },
     "execution_count": 5,
     "metadata": {},
     "output_type": "execute_result"
    }
   ],
   "source": [
    "train_folder = 'C:/Users/BVer/dog_/YJ_Kim/dataset/img_mixed/'\n",
    "train_dogs = pd.read_csv('C:/Users/BVer/dog_/YJ_Kim/dataset/filelist.csv')\n",
    "train_dogs.head()"
   ]
  },
  {
   "cell_type": "code",
   "execution_count": null,
   "metadata": {},
   "outputs": [],
   "source": [
    "target_labels = train_dogs['label']"
   ]
  },
  {
   "cell_type": "code",
   "execution_count": 7,
   "metadata": {
    "executionInfo": {
     "elapsed": 286,
     "status": "ok",
     "timestamp": 1637814756484,
     "user": {
      "displayName": "김영준소프트웨어전공",
      "photoUrl": "https://lh3.googleusercontent.com/a/default-user=s64",
      "userId": "18052448005876962130"
     },
     "user_tz": -540
    },
    "id": "nt0y9rsJPnve"
   },
   "outputs": [],
   "source": [
    "# One hot code the labels - need this for the model\n",
    "one_hot = pd.get_dummies(target_labels, sparse = True)\n",
    "one_hot_labels = np.asarray(one_hot)"
   ]
  },
  {
   "cell_type": "code",
   "execution_count": 8,
   "metadata": {
    "colab": {
     "base_uri": "https://localhost:8080/"
    },
    "id": "ZiVOhxevPnyT",
    "outputId": "a4106b0d-4e73-4f16-89d9-314d5a131c2a"
   },
   "outputs": [
    {
     "name": "stderr",
     "output_type": "stream",
     "text": [
      "C:\\Users\\BVer\\miniconda3\\envs\\sch\\lib\\site-packages\\PIL\\Image.py:974: UserWarning: Palette images with Transparency expressed in bytes should be converted to RGBA images\n",
      "  \"Palette images with Transparency expressed in bytes should be \"\n"
     ]
    }
   ],
   "source": [
    "train_data = np.array([img_to_array(load_img(img, target_size=(200, 200))) for img in (train_folder + train_dogs['fileName'].values).tolist()]).astype('float32')"
   ]
  },
  {
   "cell_type": "code",
   "execution_count": 27,
   "metadata": {
    "id": "GMjb2N7aPyD2"
   },
   "outputs": [],
   "source": [
    "x_train, x_validation, y_train, y_validation = train_test_split(train_data, one_hot_labels, test_size=0.2, stratify=np.array(target_labels), random_state=100)"
   ]
  },
  {
   "cell_type": "code",
   "execution_count": 17,
   "metadata": {
    "id": "tPHRqCsGPz3Y"
   },
   "outputs": [
    {
     "name": "stdout",
     "output_type": "stream",
     "text": [
      "x_train shape =  (25889, 200, 200, 3)\n",
      "x_validation shape =  (6473, 200, 200, 3)\n",
      "y_train shape =  (25889,)\n",
      "y_validation shape =  (6473,)\n"
     ]
    }
   ],
   "source": [
    "print ('x_train shape = ', x_train.shape)\n",
    "print ('x_validation shape = ', x_validation.shape)\n",
    "print ('y_train shape = ', y_train.shape)\n",
    "print ('y_validation shape = ', y_validation.shape)"
   ]
  },
  {
   "cell_type": "code",
   "execution_count": 11,
   "metadata": {
    "id": "o79p08nFP2Fs"
   },
   "outputs": [
    {
     "data": {
      "image/png": "[encoded data removed]",
      "text/plain": [
       "<Figure size 432x288 with 1 Axes>"
      ]
     },
     "metadata": {
      "needs_background": "light"
     },
     "output_type": "display_data"
    }
   ],
   "source": [
    "data = y_train.value_counts().sort_index().to_frame()   # this creates the data frame with train numbers\n",
    "data.columns = ['train']   # give the column a name\n",
    "data['validation'] = y_validation.value_counts().sort_index().to_frame()   # add the validation numbers\n",
    "new_plot = data[['train','validation']].sort_values(['train']+['validation'], ascending=False)   # sort the data\n",
    "new_plot.plot(kind='bar', stacked=True)\n",
    "plt.show()"
   ]
  },
  {
   "cell_type": "code",
   "execution_count": 32,
   "metadata": {},
   "outputs": [
    {
     "name": "stdout",
     "output_type": "stream",
     "text": [
      "Model: \"sequential_3\"\n",
      "_________________________________________________________________\n",
      "Layer (type)                 Output Shape              Param #   \n",
      "=================================================================\n",
      "conv2d_9 (Conv2D)            (None, 200, 200, 64)      1792      \n",
      "_________________________________________________________________\n",
      "batch_normalization_3 (Batch (None, 200, 200, 64)      256       \n",
      "_________________________________________________________________\n",
      "activation_9 (Activation)    (None, 200, 200, 64)      0         \n",
      "_________________________________________________________________\n",
      "max_pooling2d_6 (MaxPooling2 (None, 100, 100, 64)      0         \n",
      "_________________________________________________________________\n",
      "conv2d_10 (Conv2D)           (None, 100, 100, 128)     73856     \n",
      "_________________________________________________________________\n",
      "activation_10 (Activation)   (None, 100, 100, 128)     0         \n",
      "_________________________________________________________________\n",
      "max_pooling2d_7 (MaxPooling2 (None, 50, 50, 128)       0         \n",
      "_________________________________________________________________\n",
      "conv2d_11 (Conv2D)           (None, 50, 50, 128)       147584    \n",
      "_________________________________________________________________\n",
      "activation_11 (Activation)   (None, 50, 50, 128)       0         \n",
      "_________________________________________________________________\n",
      "max_pooling2d_8 (MaxPooling2 (None, 25, 25, 128)       0         \n",
      "_________________________________________________________________\n",
      "conv2d_12 (Conv2D)           (None, 25, 25, 256)       295168    \n",
      "_________________________________________________________________\n",
      "activation_12 (Activation)   (None, 25, 25, 256)       0         \n",
      "_________________________________________________________________\n",
      "average_pooling2d_3 (Average (None, 12, 12, 256)       0         \n",
      "_________________________________________________________________\n",
      "flatten_3 (Flatten)          (None, 36864)             0         \n",
      "_________________________________________________________________\n",
      "dropout_12 (Dropout)         (None, 36864)             0         \n",
      "_________________________________________________________________\n",
      "dense_15 (Dense)             (None, 512)               18874880  \n",
      "_________________________________________________________________\n",
      "dense_16 (Dense)             (None, 120)               61560     \n",
      "=================================================================\n",
      "Total params: 19,455,096\n",
      "Trainable params: 19,454,968\n",
      "Non-trainable params: 128\n",
      "_________________________________________________________________\n"
     ]
    }
   ],
   "source": [
    "# dimensions of our images.\n",
    "img_width, img_height = 200, 200\n",
    "\n",
    "model = Sequential()\n",
    "\n",
    "#model.add(Conv2D(32, (7,7), (1,1), input_shape = (100,100,3)))\n",
    "model.add(Conv2D(64, (3, 3), input_shape=(200, 200, 3), padding = \"same\"))\n",
    "model.add(BatchNormalization(axis = 3))\n",
    "model.add(Activation(\"relu\"))\n",
    "model.add(MaxPooling2D(2,2))\n",
    "\n",
    "model.add(Conv2D(128, (3,3), (1,1), padding = \"same\"))\n",
    "model.add(Activation(\"relu\"))\n",
    "model.add(MaxPooling2D(2,2))\n",
    "\n",
    "model.add(Conv2D(128, (3,3), (1,1), padding = \"same\"))\n",
    "model.add(Activation(\"relu\"))\n",
    "model.add(MaxPooling2D(2,2))\n",
    "\n",
    "model.add(Conv2D(256, (3,3), (1,1), padding = \"same\"))\n",
    "model.add(Activation(\"relu\"))\n",
    "model.add(AveragePooling2D(2,2))\n",
    "\n",
    "model.add(Flatten())\n",
    "model.add(Dropout(0.5))\n",
    "model.add(Dense(512, activation = \"relu\"))\n",
    "model.add(Dense(120, activation = \"softmax\"))\n",
    "\n",
    "model.compile(loss = \"categorical_crossentropy\", optimizer = \"adam\", metrics = [\"accuracy\"])\n",
    "\n",
    "model.summary()"
   ]
  },
  {
   "cell_type": "code",
   "execution_count": 37,
   "metadata": {},
   "outputs": [],
   "source": [
    "train_datagen = ImageDataGenerator(rescale=1./255, \n",
    "                                   rotation_range=40, \n",
    "                                   zoom_range = 0.2, \n",
    "                                   width_shift_range=0.2,\n",
    "                                   height_shift_range=0.2, \n",
    "                                   horizontal_flip = 'true')\n",
    "train_generator = train_datagen.flow(x_train, y_train, shuffle=False, batch_size=16)\n",
    "val_datagen = ImageDataGenerator(rescale = 1./255)\n",
    "val_generator = train_datagen.flow(x_validation, y_validation, shuffle=False, batch_size=16)"
   ]
  },
  {
   "cell_type": "code",
   "execution_count": 38,
   "metadata": {
    "scrolled": true,
    "tags": []
   },
   "outputs": [
    {
     "name": "stdout",
     "output_type": "stream",
     "text": [
      "Epoch 1/40\n",
      "1619/1619 [==============================] - 314s 194ms/step - loss: 4.7823 - accuracy: 0.0116 - val_loss: 4.7792 - val_accuracy: 0.0124\n",
      "Epoch 2/40\n",
      "1619/1619 [==============================] - 298s 184ms/step - loss: 4.7812 - accuracy: 0.0116 - val_loss: 4.7797 - val_accuracy: 0.0124\n",
      "Epoch 3/40\n",
      "1619/1619 [==============================] - 305s 188ms/step - loss: 4.7830 - accuracy: 0.0120 - val_loss: 4.7795 - val_accuracy: 0.0124\n",
      "Epoch 4/40\n",
      "1619/1619 [==============================] - 284s 176ms/step - loss: 4.7808 - accuracy: 0.0124 - val_loss: 4.7790 - val_accuracy: 0.0124\n",
      "Epoch 5/40\n",
      "1619/1619 [==============================] - 296s 183ms/step - loss: 4.7806 - accuracy: 0.0121 - val_loss: 4.7792 - val_accuracy: 0.0124\n",
      "Epoch 6/40\n",
      "1619/1619 [==============================] - 288s 178ms/step - loss: 4.7805 - accuracy: 0.0124 - val_loss: 4.7790 - val_accuracy: 0.0124\n",
      "Epoch 7/40\n",
      "1619/1619 [==============================] - 294s 182ms/step - loss: 4.7804 - accuracy: 0.0124 - val_loss: 4.7790 - val_accuracy: 0.0124\n",
      "Epoch 8/40\n",
      "1619/1619 [==============================] - 287s 178ms/step - loss: 4.7803 - accuracy: 0.0124 - val_loss: 4.7789 - val_accuracy: 0.0124\n",
      "Epoch 9/40\n",
      "1619/1619 [==============================] - 285s 176ms/step - loss: 4.7803 - accuracy: 0.0124 - val_loss: 4.7791 - val_accuracy: 0.0124\n",
      "Epoch 10/40\n",
      "1619/1619 [==============================] - 287s 177ms/step - loss: 4.7802 - accuracy: 0.0124 - val_loss: 4.7789 - val_accuracy: 0.0124\n",
      "Epoch 11/40\n",
      "1619/1619 [==============================] - 288s 178ms/step - loss: 4.7801 - accuracy: 0.0124 - val_loss: 4.7789 - val_accuracy: 0.0124\n",
      "Epoch 12/40\n",
      "1619/1619 [==============================] - 291s 180ms/step - loss: 4.7801 - accuracy: 0.0124 - val_loss: 4.7789 - val_accuracy: 0.0124\n",
      "Epoch 13/40\n",
      "1619/1619 [==============================] - 293s 181ms/step - loss: 4.7801 - accuracy: 0.0124 - val_loss: 4.7789 - val_accuracy: 0.0124\n",
      "Epoch 14/40\n",
      "1619/1619 [==============================] - 367s 227ms/step - loss: 4.7801 - accuracy: 0.0124 - val_loss: 4.7789 - val_accuracy: 0.0124\n",
      "Epoch 15/40\n",
      "1619/1619 [==============================] - 342s 211ms/step - loss: 4.7801 - accuracy: 0.0124 - val_loss: 4.7789 - val_accuracy: 0.0124\n",
      "Epoch 16/40\n",
      "1619/1619 [==============================] - 293s 181ms/step - loss: 4.7801 - accuracy: 0.0124 - val_loss: 4.7789 - val_accuracy: 0.0124\n",
      "Epoch 17/40\n",
      "1619/1619 [==============================] - 313s 193ms/step - loss: 4.7800 - accuracy: 0.0124 - val_loss: 4.7789 - val_accuracy: 0.0124\n",
      "Epoch 18/40\n",
      "1619/1619 [==============================] - 286s 177ms/step - loss: 4.7801 - accuracy: 0.0124 - val_loss: 4.7789 - val_accuracy: 0.0124\n",
      "Epoch 19/40\n",
      "1619/1619 [==============================] - 299s 185ms/step - loss: 4.7801 - accuracy: 0.0124 - val_loss: 4.7789 - val_accuracy: 0.0124\n",
      "Epoch 20/40\n",
      "1619/1619 [==============================] - 288s 178ms/step - loss: 4.7801 - accuracy: 0.0124 - val_loss: 4.7789 - val_accuracy: 0.0124\n",
      "Epoch 21/40\n",
      "1619/1619 [==============================] - 367s 226ms/step - loss: 4.7801 - accuracy: 0.0124 - val_loss: 4.7789 - val_accuracy: 0.0124\n",
      "Epoch 22/40\n",
      "1619/1619 [==============================] - 287s 177ms/step - loss: 4.7801 - accuracy: 0.0124 - val_loss: 4.7789 - val_accuracy: 0.0124\n",
      "Epoch 23/40\n",
      "1619/1619 [==============================] - 287s 177ms/step - loss: 4.7801 - accuracy: 0.0124 - val_loss: 4.7789 - val_accuracy: 0.0124\n",
      "Epoch 24/40\n",
      "1619/1619 [==============================] - 289s 178ms/step - loss: 4.7801 - accuracy: 0.0124 - val_loss: 4.7789 - val_accuracy: 0.0124\n",
      "Epoch 25/40\n",
      "1619/1619 [==============================] - 335s 207ms/step - loss: 4.7801 - accuracy: 0.0124 - val_loss: 4.7789 - val_accuracy: 0.0124\n",
      "Epoch 26/40\n",
      "1619/1619 [==============================] - 286s 177ms/step - loss: 4.7801 - accuracy: 0.0124 - val_loss: 4.7789 - val_accuracy: 0.0124\n",
      "Epoch 27/40\n",
      "1619/1619 [==============================] - 297s 184ms/step - loss: 4.7801 - accuracy: 0.0124 - val_loss: 4.7789 - val_accuracy: 0.0124\n",
      "Epoch 28/40\n",
      "1619/1619 [==============================] - 301s 186ms/step - loss: 4.7801 - accuracy: 0.0124 - val_loss: 4.7789 - val_accuracy: 0.0124\n",
      "Epoch 29/40\n",
      "1619/1619 [==============================] - 289s 179ms/step - loss: 4.7801 - accuracy: 0.0124 - val_loss: 4.7789 - val_accuracy: 0.0124\n",
      "Epoch 30/40\n",
      "1619/1619 [==============================] - 286s 177ms/step - loss: 4.7801 - accuracy: 0.0124 - val_loss: 4.7789 - val_accuracy: 0.0124\n",
      "Epoch 31/40\n",
      "1619/1619 [==============================] - 300s 185ms/step - loss: 4.7801 - accuracy: 0.0124 - val_loss: 4.7789 - val_accuracy: 0.0124\n",
      "Epoch 32/40\n",
      "1619/1619 [==============================] - 291s 180ms/step - loss: 4.7801 - accuracy: 0.0124 - val_loss: 4.7789 - val_accuracy: 0.0124\n",
      "Epoch 33/40\n",
      "1619/1619 [==============================] - 288s 178ms/step - loss: 4.7801 - accuracy: 0.0124 - val_loss: 4.7789 - val_accuracy: 0.0124\n",
      "Epoch 34/40\n",
      "1619/1619 [==============================] - 291s 180ms/step - loss: 4.7801 - accuracy: 0.0124 - val_loss: 4.7789 - val_accuracy: 0.0124\n",
      "Epoch 35/40\n",
      "1619/1619 [==============================] - 289s 179ms/step - loss: 4.7801 - accuracy: 0.0124 - val_loss: 4.7789 - val_accuracy: 0.0124\n",
      "Epoch 36/40\n",
      "1619/1619 [==============================] - 330s 204ms/step - loss: 4.7801 - accuracy: 0.0115 - val_loss: 4.7789 - val_accuracy: 0.0124\n",
      "Epoch 37/40\n",
      "1619/1619 [==============================] - 389s 240ms/step - loss: 4.7801 - accuracy: 0.0124 - val_loss: 4.7789 - val_accuracy: 0.0124\n",
      "Epoch 38/40\n",
      "1619/1619 [==============================] - 339s 209ms/step - loss: 4.7801 - accuracy: 0.0124 - val_loss: 4.7789 - val_accuracy: 0.0124\n",
      "Epoch 39/40\n",
      "1619/1619 [==============================] - 288s 178ms/step - loss: 4.7801 - accuracy: 0.0124 - val_loss: 4.7789 - val_accuracy: 0.0124\n",
      "Epoch 40/40\n",
      "1619/1619 [==============================] - 320s 198ms/step - loss: 4.7801 - accuracy: 0.0124 - val_loss: 4.7789 - val_accuracy: 0.0124\n"
     ]
    },
    {
     "ename": "NameError",
     "evalue": "name 'trial' is not defined",
     "output_type": "error",
     "traceback": [
      "\u001b[1;31m---------------------------------------------------------------------------\u001b[0m",
      "\u001b[1;31mNameError\u001b[0m                                 Traceback (most recent call last)",
      "\u001b[1;32m~\\AppData\\Local\\Temp/ipykernel_9080/4171628414.py\u001b[0m in \u001b[0;36m<module>\u001b[1;34m\u001b[0m\n\u001b[0;32m      7\u001b[0m     \u001b[0mepochs\u001b[0m \u001b[1;33m=\u001b[0m \u001b[0mepochs\u001b[0m\u001b[1;33m,\u001b[0m\u001b[1;33m\u001b[0m\u001b[0m\n\u001b[0;32m      8\u001b[0m )\n\u001b[1;32m----> 9\u001b[1;33m \u001b[0mmodel\u001b[0m\u001b[1;33m.\u001b[0m\u001b[0msave_weights\u001b[0m\u001b[1;33m(\u001b[0m\u001b[0mdatetime\u001b[0m\u001b[1;33m.\u001b[0m\u001b[0mtoday\u001b[0m\u001b[1;33m(\u001b[0m\u001b[1;33m)\u001b[0m\u001b[1;33m.\u001b[0m\u001b[0mstrftime\u001b[0m\u001b[1;33m(\u001b[0m\u001b[1;34m\"%Y%m%d\"\u001b[0m\u001b[1;33m)\u001b[0m\u001b[1;33m+\u001b[0m \u001b[1;34m'_weights_'\u001b[0m \u001b[1;33m+\u001b[0m\u001b[0mstr\u001b[0m\u001b[1;33m(\u001b[0m\u001b[0mepochs\u001b[0m\u001b[1;33m)\u001b[0m \u001b[1;33m+\u001b[0m \u001b[1;34m'_'\u001b[0m \u001b[1;33m+\u001b[0m \u001b[0mstr\u001b[0m\u001b[1;33m(\u001b[0m\u001b[0mtrial\u001b[0m\u001b[1;33m)\u001b[0m \u001b[1;33m+\u001b[0m\u001b[1;34m'.h5'\u001b[0m\u001b[1;33m)\u001b[0m\u001b[1;33m\u001b[0m\u001b[0m\n\u001b[0m\u001b[0;32m     10\u001b[0m \u001b[0mmodel\u001b[0m\u001b[1;33m.\u001b[0m\u001b[0msave\u001b[0m\u001b[1;33m(\u001b[0m\u001b[0mdatetime\u001b[0m\u001b[1;33m.\u001b[0m\u001b[0mtoday\u001b[0m\u001b[1;33m(\u001b[0m\u001b[1;33m)\u001b[0m\u001b[1;33m.\u001b[0m\u001b[0mstrftime\u001b[0m\u001b[1;33m(\u001b[0m\u001b[1;34m\"%Y%m%d\"\u001b[0m\u001b[1;33m)\u001b[0m\u001b[1;33m+\u001b[0m \u001b[1;34m'_model_'\u001b[0m\u001b[1;33m+\u001b[0m \u001b[0mstr\u001b[0m\u001b[1;33m(\u001b[0m\u001b[0mepochs\u001b[0m\u001b[1;33m)\u001b[0m \u001b[1;33m+\u001b[0m \u001b[1;34m'_'\u001b[0m \u001b[1;33m+\u001b[0m \u001b[0mstr\u001b[0m\u001b[1;33m(\u001b[0m\u001b[0mtrial\u001b[0m\u001b[1;33m)\u001b[0m \u001b[1;33m+\u001b[0m\u001b[1;34m'.h5'\u001b[0m\u001b[1;33m)\u001b[0m\u001b[1;33m\u001b[0m\u001b[0m\n",
      "\u001b[1;31mNameError\u001b[0m: name 'trial' is not defined"
     ]
    }
   ],
   "source": [
    "epochs = 60\n",
    "history = model.fit_generator(\n",
    "    generator = train_generator,\n",
    "    steps_per_epoch = len(train_generator),\n",
    "    validation_data = val_generator,\n",
    "    validation_steps = len(val_generator),\n",
    "    epochs = epochs,\n",
    "    callbacks=[\n",
    "        ModelCheckpoint('models/' + part + '_model.h5', monitor='val_acc', verbose=1, save_best_only=True, mode='auto'),\n",
    "        ReduceLROnPlateau(monitor='val_acc', factor=0.5, patience=50, verbose=1, mode='auto'),\n",
    "        early_stop, TensorB\n",
    "    ]\n",
    ")"
   ]
  },
  {
   "cell_type": "code",
   "execution_count": 40,
   "metadata": {},
   "outputs": [],
   "source": [
    "trial = 1\n",
    "model.save_weights(datetime.today().strftime(\"%Y%m%d\")+ '_weights_' +str(epochs) + '_' + str(trial) +'.h5')\n",
    "model.save(datetime.today().strftime(\"%Y%m%d\")+ '_model_'+ str(epochs) + '_' + str(trial) +'.h5')"
   ]
  },
  {
   "cell_type": "code",
   "execution_count": 41,
   "metadata": {
    "id": "2Y4HHVLdJPLQ"
   },
   "outputs": [
    {
     "data": {
      "text/plain": [
       "Text(0.5, 0, 'Epoch')"
      ]
     },
     "execution_count": 41,
     "metadata": {},
     "output_type": "execute_result"
    },
    {
     "data": {
      "image/png": "[encoded data removed]",
      "text/plain": [
       "<Figure size 432x288 with 1 Axes>"
      ]
     },
     "metadata": {
      "needs_background": "light"
     },
     "output_type": "display_data"
    }
   ],
   "source": [
    "plt.plot(history.history['loss'], label = 'Loss')\n",
    "plt.plot(history.history['val_loss'], label = 'Val_Loss')\n",
    "plt.plot(history.history['accuracy'], label = 'Accuracy')\n",
    "plt.plot(history.history['val_accuracy'], label = 'Val_Accuracy')\n",
    "plt.legend()\n",
    "plt.grid()\n",
    "plt.title('Model Accuracy')\n",
    "plt.ylabel('Accuracy')\n",
    "plt.xlabel('Epoch')"
   ]
  },
  {
   "cell_type": "code",
   "execution_count": 42,
   "metadata": {},
   "outputs": [
    {
     "data": {
      "text/plain": [
       "Text(0.5, 0, 'Epoch')"
      ]
     },
     "execution_count": 42,
     "metadata": {},
     "output_type": "execute_result"
    },
    {
     "data": {
      "image/png": "[encoded data removed]",
      "text/plain": [
       "<Figure size 432x288 with 1 Axes>"
      ]
     },
     "metadata": {
      "needs_background": "light"
     },
     "output_type": "display_data"
    }
   ],
   "source": [
    "plt.plot(history.history['loss'])\n",
    "plt.plot(history.history['val_loss'])\n",
    "plt.title('Model Loss')\n",
    "plt.ylabel('Loss')\n",
    "plt.xlabel('Epoch')"
   ]
  },
  {
   "cell_type": "code",
   "execution_count": 43,
   "metadata": {
    "id": "kHAqBQKwHC35",
    "outputId": "8f225ceb-4a77-411e-abc0-ea591cf88b8b"
   },
   "outputs": [
    {
     "data": {
      "text/plain": [
       "Text(0.5, 0, 'Epoch')"
      ]
     },
     "execution_count": 43,
     "metadata": {},
     "output_type": "execute_result"
    },
    {
     "data": {
      "image/png": "[encoded data removed]",
      "text/plain": [
       "<Figure size 432x288 with 1 Axes>"
      ]
     },
     "metadata": {
      "needs_background": "light"
     },
     "output_type": "display_data"
    }
   ],
   "source": [
    "plt.plot(history.history['accuracy'])\n",
    "plt.plot(history.history['val_accuracy'])\n",
    "plt.title('Model Accuracy')\n",
    "plt.ylabel('Accuracy')\n",
    "plt.xlabel('Epoch')"
   ]
  },
  {
   "cell_type": "code",
   "execution_count": 45,
   "metadata": {
    "id": "ZKEu7vaWHC35"
   },
   "outputs": [],
   "source": [
    "predictions = model.predict(val_generator)\n",
    "#predictions_class = model.predict_classes(validation_generator)"
   ]
  },
  {
   "cell_type": "code",
   "execution_count": 48,
   "metadata": {
    "id": "ziBNnEbfHC36",
    "outputId": "927e8b7b-2458-465e-f6d3-01aec233f7b4",
    "tags": []
   },
   "outputs": [
    {
     "data": {
      "text/plain": [
       "array([[0, 0, 0, ..., 0, 0, 0],\n",
       "       [0, 0, 0, ..., 0, 0, 0],\n",
       "       [0, 0, 0, ..., 0, 0, 0],\n",
       "       ...,\n",
       "       [0, 0, 0, ..., 0, 0, 0],\n",
       "       [0, 0, 0, ..., 0, 0, 0],\n",
       "       [0, 0, 0, ..., 0, 0, 0]])"
      ]
     },
     "execution_count": 48,
     "metadata": {},
     "output_type": "execute_result"
    }
   ],
   "source": [
    "(model.predict(val_generator) > 0.5).astype(\"int32\")"
   ]
  },
  {
   "cell_type": "code",
   "execution_count": null,
   "metadata": {
    "id": "r6hyNj9HHC36"
   },
   "outputs": [],
   "source": [
    "predictions"
   ]
  },
  {
   "cell_type": "code",
   "execution_count": null,
   "metadata": {
    "id": "vK266-0THC36"
   },
   "outputs": [],
   "source": [
    "test_loss, test_acc = model.evaluate(validation_generator, batch_size=50, verbose=1)"
   ]
  },
  {
   "cell_type": "code",
   "execution_count": 49,
   "metadata": {
    "id": "5DfEtF-SHC36"
   },
   "outputs": [
    {
     "name": "stdout",
     "output_type": "stream",
     "text": [
      "WARNING:tensorflow:From C:\\Users\\BVer\\AppData\\Local\\Temp/ipykernel_9080/2550353699.py:1: Model.evaluate_generator (from tensorflow.python.keras.engine.training) is deprecated and will be removed in a future version.\n",
      "Instructions for updating:\n",
      "Please use Model.evaluate, which supports generators.\n"
     ]
    },
    {
     "name": "stderr",
     "output_type": "stream",
     "text": [
      "WARNING:tensorflow:From C:\\Users\\BVer\\AppData\\Local\\Temp/ipykernel_9080/2550353699.py:1: Model.evaluate_generator (from tensorflow.python.keras.engine.training) is deprecated and will be removed in a future version.\n",
      "Instructions for updating:\n",
      "Please use Model.evaluate, which supports generators.\n"
     ]
    }
   ],
   "source": [
    "scores = model.evaluate_generator(val_generator, steps=5)"
   ]
  },
  {
   "cell_type": "code",
   "execution_count": 50,
   "metadata": {
    "id": "nWBPASOsHC37"
   },
   "outputs": [
    {
     "name": "stdout",
     "output_type": "stream",
     "text": [
      "-- Evaluate --\n",
      "accuracy: 1.25%\n"
     ]
    }
   ],
   "source": [
    "print(\"-- Evaluate --\")\n",
    "print(\"%s: %.2f%%\" %(model.metrics_names[1], scores[1]*100))"
   ]
  }
 ],
 "metadata": {
  "colab": {
   "collapsed_sections": [],
   "name": "dog120.ipynb",
   "provenance": []
  },
  "kernelspec": {
   "display_name": "Python 3 (ipykernel)",
   "language": "python",
   "name": "python3"
  },
  "language_info": {
   "codemirror_mode": {
    "name": "ipython",
    "version": 3
   },
   "file_extension": ".py",
   "mimetype": "text/x-python",
   "name": "python",
   "nbconvert_exporter": "python",
   "pygments_lexer": "ipython3",
   "version": "3.7.0"
  }
 },
 "nbformat": 4,
 "nbformat_minor": 4
}
